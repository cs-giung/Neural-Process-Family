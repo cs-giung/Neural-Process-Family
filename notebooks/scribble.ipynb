{
 "cells": [
  {
   "cell_type": "code",
   "execution_count": 1,
   "metadata": {},
   "outputs": [
    {
     "name": "stdout",
     "output_type": "stream",
     "text": [
      "env: XLA_PYTHON_CLIENT_PREALLOCATE=false\n",
      "env: CUDA_VISIBLE_DEVICES=0\n",
      "/mnt/aitrics_ext/ext01/john/jax/Neural-Process-Family\n"
     ]
    }
   ],
   "source": [
    "%env XLA_PYTHON_CLIENT_PREALLOCATE=false\n",
    "%env CUDA_VISIBLE_DEVICES=0\n",
    "import os\n",
    "import sys\n",
    "\n",
    "if os.getcwd().split(\"/\")[-1] == \"notebooks\":\n",
    "    %cd ..\n",
    "sys.path.append(\".\")\n",
    "\n",
    "import jax\n",
    "import jax.numpy as jnp"
   ]
  },
  {
   "cell_type": "code",
   "execution_count": 2,
   "metadata": {},
   "outputs": [],
   "source": [
    "from npf.jax.modules.setconv import Discretization1d\n",
    "from npf.jax.data import GPSampler, Matern52Kernel, RBFKernel, PeriodicKernel\n",
    "\n",
    "sampler = GPSampler(RBFKernel())\n",
    "batch = sampler.sample(jax.random.PRNGKey(777))\n"
   ]
  },
  {
   "cell_type": "code",
   "execution_count": 23,
   "metadata": {},
   "outputs": [],
   "source": [
    "import importlib\n",
    "import math\n",
    "import npf.jax.models.convnp as convnp\n",
    "from npf.jax.modules import SetConv1dDecoder, SetConv1dEncoder\n",
    "from npf.jax.modules.net import CNN\n",
    "importlib.reload(convnp)\n",
    "\n",
    "\n",
    "ConvNPBase = convnp.ConvNPBase\n",
    "points_per_unit = 64\n",
    "init_log_scale = math.log(2./points_per_unit)\n",
    "model = ConvNPBase(z_dim=64,\n",
    "                   discretizer=Discretization1d(-2, 2, points_per_unit, 1),\n",
    "                   encoder = SetConv1dEncoder(init_log_scale=init_log_scale),\n",
    "                   cnn = CNN(dimension=1, hidden_features=(64,64,64), out_features=64),\n",
    "                   cnn_post_z= CNN(dimension=1, hidden_features=(64,64,64), out_features=64),\n",
    "                   decoder = SetConv1dEncoder(init_log_scale=init_log_scale),\n",
    "                   )\n",
    "init_rngs = {'params':jax.random.PRNGKey(25),\n",
    "             'sample':jax.random.PRNGKey(64)}\n",
    "params = model.init(init_rngs, batch.x_ctx, batch.y_ctx, batch.x_tar,  batch.mask_ctx, batch.mask_tar)"
   ]
  },
  {
   "cell_type": "code",
   "execution_count": 24,
   "metadata": {},
   "outputs": [
    {
     "data": {
      "text/plain": [
       "(16, 10, 50, 1)"
      ]
     },
     "execution_count": 24,
     "metadata": {},
     "output_type": "execute_result"
    }
   ],
   "source": [
    "mu, sigma = model.apply(params, \n",
    "                        batch.x_ctx, batch.y_ctx, batch.x_tar,  batch.mask_ctx, batch.mask_tar,\n",
    "                        num_latents=10,\n",
    "                        rngs={'sample':jax.random.PRNGKey(45)})\n",
    "mu.shape"
   ]
  },
  {
   "cell_type": "code",
   "execution_count": 25,
   "metadata": {},
   "outputs": [
    {
     "data": {
      "text/plain": [
       "DeviceArray(-2.8612857, dtype=float32)"
      ]
     },
     "execution_count": 25,
     "metadata": {},
     "output_type": "execute_result"
    }
   ],
   "source": [
    "model.apply(params,\n",
    "            batch.x_ctx, batch.y_ctx, batch.x_tar, batch.y_tar, batch.mask_ctx, batch.mask_tar,\n",
    "            num_latents=10,\n",
    "            rngs={'sample':jax.random.PRNGKey(24)},\n",
    "            method=model.log_likelihood\n",
    "            )"
   ]
  }
 ],
 "metadata": {
  "kernelspec": {
   "display_name": "Python 3.10.0 ('base')",
   "language": "python",
   "name": "python3"
  },
  "language_info": {
   "codemirror_mode": {
    "name": "ipython",
    "version": 3
   },
   "file_extension": ".py",
   "mimetype": "text/x-python",
   "name": "python",
   "nbconvert_exporter": "python",
   "pygments_lexer": "ipython3",
   "version": "3.10.0"
  },
  "orig_nbformat": 4,
  "vscode": {
   "interpreter": {
    "hash": "feae86eea1dd8dbe6d8a2392cc00210f519de1028e56e20f5513f723dec01511"
   }
  }
 },
 "nbformat": 4,
 "nbformat_minor": 2
}
